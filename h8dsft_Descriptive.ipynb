{
  "nbformat": 4,
  "nbformat_minor": 0,
  "metadata": {
    "colab": {
      "name": "h8dsft_Descriptive.ipynb",
      "provenance": [],
      "collapsed_sections": []
    },
    "kernelspec": {
      "name": "python3",
      "display_name": "Python 3"
    },
    "language_info": {
      "name": "python"
    }
  },
  "cells": [
    {
      "cell_type": "code",
      "metadata": {
        "id": "ScWXz8B3RFGd"
      },
      "source": [
        "!pip install -q kaggle"
      ],
      "execution_count": 1,
      "outputs": []
    },
    {
      "cell_type": "code",
      "metadata": {
        "id": "cpuUoqbKTt8z"
      },
      "source": [
        "!mkdir -p ~/.kaggle\n",
        "!cp kaggle.json ~/.kaggle\n",
        "\n",
        "!mkdir ./kaggle\n",
        "!mv ./kaggle.json ./kaggle"
      ],
      "execution_count": 2,
      "outputs": []
    },
    {
      "cell_type": "code",
      "metadata": {
        "colab": {
          "base_uri": "https://localhost:8080/"
        },
        "id": "C48dMGh9TwHL",
        "outputId": "2750e57b-6323-45de-93b0-7d47ff2e5c84"
      },
      "source": [
        "!chmod 600 ~/.kaggle/kaggle.json #akses dengan rootnya\n",
        "!ls ~/.kaggle"
      ],
      "execution_count": 3,
      "outputs": [
        {
          "output_type": "stream",
          "name": "stdout",
          "text": [
            "kaggle.json\n"
          ]
        }
      ]
    },
    {
      "cell_type": "code",
      "metadata": {
        "colab": {
          "base_uri": "https://localhost:8080/"
        },
        "id": "wmL0wnUbTyGv",
        "outputId": "c98324cf-8888-4cd1-a859-c33a8a448a16"
      },
      "source": [
        "!kaggle datasets download -d hendratno/covid19-indonesia"
      ],
      "execution_count": 4,
      "outputs": [
        {
          "output_type": "stream",
          "name": "stdout",
          "text": [
            "Downloading covid19-indonesia.zip to /content\n",
            "\r  0% 0.00/872k [00:00<?, ?B/s]\n",
            "\r100% 872k/872k [00:00<00:00, 28.6MB/s]\n"
          ]
        }
      ]
    },
    {
      "cell_type": "code",
      "metadata": {
        "colab": {
          "base_uri": "https://localhost:8080/"
        },
        "id": "AJCr-VMzT4ZT",
        "outputId": "ac0700cb-cad5-4aa3-cc2c-e342321c930d"
      },
      "source": [
        "!mkdir covid19\n",
        "!unzip covid19-indonesia.zip -d covid19"
      ],
      "execution_count": 5,
      "outputs": [
        {
          "output_type": "stream",
          "name": "stdout",
          "text": [
            "Archive:  covid19-indonesia.zip\n",
            "  inflating: covid19/covid_19_indonesia_time_series_all.csv  \n"
          ]
        }
      ]
    },
    {
      "cell_type": "code",
      "metadata": {
        "id": "zxSPf6-ZUNjT"
      },
      "source": [
        "import numpy as np\n",
        "import pandas as pd"
      ],
      "execution_count": 7,
      "outputs": []
    },
    {
      "cell_type": "code",
      "metadata": {
        "colab": {
          "base_uri": "https://localhost:8080/",
          "height": 686
        },
        "id": "iVRm94ERUCgv",
        "outputId": "697b194b-7236-4519-a4b0-389c2a4cf86e"
      },
      "source": [
        "df = pd.read_csv('./covid19/covid_19_indonesia_time_series_all.csv')\n",
        "df"
      ],
      "execution_count": 8,
      "outputs": [
        {
          "output_type": "execute_result",
          "data": {
            "text/html": [
              "<div>\n",
              "<style scoped>\n",
              "    .dataframe tbody tr th:only-of-type {\n",
              "        vertical-align: middle;\n",
              "    }\n",
              "\n",
              "    .dataframe tbody tr th {\n",
              "        vertical-align: top;\n",
              "    }\n",
              "\n",
              "    .dataframe thead th {\n",
              "        text-align: right;\n",
              "    }\n",
              "</style>\n",
              "<table border=\"1\" class=\"dataframe\">\n",
              "  <thead>\n",
              "    <tr style=\"text-align: right;\">\n",
              "      <th></th>\n",
              "      <th>Date</th>\n",
              "      <th>Location ISO Code</th>\n",
              "      <th>Location</th>\n",
              "      <th>New Cases</th>\n",
              "      <th>New Deaths</th>\n",
              "      <th>New Recovered</th>\n",
              "      <th>New Active Cases</th>\n",
              "      <th>Total Cases</th>\n",
              "      <th>Total Deaths</th>\n",
              "      <th>Total Recovered</th>\n",
              "      <th>Total Active Cases</th>\n",
              "      <th>Location Level</th>\n",
              "      <th>City or Regency</th>\n",
              "      <th>Province</th>\n",
              "      <th>Country</th>\n",
              "      <th>Continent</th>\n",
              "      <th>Island</th>\n",
              "      <th>Time Zone</th>\n",
              "      <th>Special Status</th>\n",
              "      <th>Total Regencies</th>\n",
              "      <th>Total Cities</th>\n",
              "      <th>Total Districts</th>\n",
              "      <th>Total Urban Villages</th>\n",
              "      <th>Total Rural Villages</th>\n",
              "      <th>Area (km2)</th>\n",
              "      <th>Population</th>\n",
              "      <th>Population Density</th>\n",
              "      <th>Longitude</th>\n",
              "      <th>Latitude</th>\n",
              "      <th>New Cases per Million</th>\n",
              "      <th>Total Cases per Million</th>\n",
              "      <th>New Deaths per Million</th>\n",
              "      <th>Total Deaths per Million</th>\n",
              "      <th>Total Deaths per 100rb</th>\n",
              "      <th>Case Fatality Rate</th>\n",
              "      <th>Case Recovered Rate</th>\n",
              "      <th>Growth Factor of New Cases</th>\n",
              "      <th>Growth Factor of New Deaths</th>\n",
              "    </tr>\n",
              "  </thead>\n",
              "  <tbody>\n",
              "    <tr>\n",
              "      <th>0</th>\n",
              "      <td>3/1/2020</td>\n",
              "      <td>ID-JK</td>\n",
              "      <td>DKI Jakarta</td>\n",
              "      <td>2</td>\n",
              "      <td>0</td>\n",
              "      <td>0</td>\n",
              "      <td>2</td>\n",
              "      <td>39</td>\n",
              "      <td>20</td>\n",
              "      <td>39</td>\n",
              "      <td>-20</td>\n",
              "      <td>Province</td>\n",
              "      <td>NaN</td>\n",
              "      <td>DKI Jakarta</td>\n",
              "      <td>Indonesia</td>\n",
              "      <td>Asia</td>\n",
              "      <td>Jawa</td>\n",
              "      <td>UTC+07:00</td>\n",
              "      <td>Daerah Khusus Ibu Kota</td>\n",
              "      <td>1</td>\n",
              "      <td>5.0</td>\n",
              "      <td>44</td>\n",
              "      <td>267.0</td>\n",
              "      <td>NaN</td>\n",
              "      <td>664</td>\n",
              "      <td>10846145</td>\n",
              "      <td>16334.31</td>\n",
              "      <td>106.836118</td>\n",
              "      <td>-6.204699</td>\n",
              "      <td>0.18</td>\n",
              "      <td>3.60</td>\n",
              "      <td>0.00</td>\n",
              "      <td>1.84</td>\n",
              "      <td>0.18</td>\n",
              "      <td>51.28%</td>\n",
              "      <td>100.00%</td>\n",
              "      <td>NaN</td>\n",
              "      <td>NaN</td>\n",
              "    </tr>\n",
              "    <tr>\n",
              "      <th>1</th>\n",
              "      <td>3/2/2020</td>\n",
              "      <td>ID-JK</td>\n",
              "      <td>DKI Jakarta</td>\n",
              "      <td>2</td>\n",
              "      <td>0</td>\n",
              "      <td>0</td>\n",
              "      <td>2</td>\n",
              "      <td>41</td>\n",
              "      <td>20</td>\n",
              "      <td>39</td>\n",
              "      <td>-18</td>\n",
              "      <td>Province</td>\n",
              "      <td>NaN</td>\n",
              "      <td>DKI Jakarta</td>\n",
              "      <td>Indonesia</td>\n",
              "      <td>Asia</td>\n",
              "      <td>Jawa</td>\n",
              "      <td>UTC+07:00</td>\n",
              "      <td>Daerah Khusus Ibu Kota</td>\n",
              "      <td>1</td>\n",
              "      <td>5.0</td>\n",
              "      <td>44</td>\n",
              "      <td>267.0</td>\n",
              "      <td>NaN</td>\n",
              "      <td>664</td>\n",
              "      <td>10846145</td>\n",
              "      <td>16334.31</td>\n",
              "      <td>106.836118</td>\n",
              "      <td>-6.204699</td>\n",
              "      <td>0.18</td>\n",
              "      <td>3.78</td>\n",
              "      <td>0.00</td>\n",
              "      <td>1.84</td>\n",
              "      <td>0.18</td>\n",
              "      <td>48.78%</td>\n",
              "      <td>95.12%</td>\n",
              "      <td>1.00</td>\n",
              "      <td>1.0</td>\n",
              "    </tr>\n",
              "    <tr>\n",
              "      <th>2</th>\n",
              "      <td>3/2/2020</td>\n",
              "      <td>IDN</td>\n",
              "      <td>Indonesia</td>\n",
              "      <td>2</td>\n",
              "      <td>0</td>\n",
              "      <td>0</td>\n",
              "      <td>2</td>\n",
              "      <td>2</td>\n",
              "      <td>0</td>\n",
              "      <td>0</td>\n",
              "      <td>2</td>\n",
              "      <td>Country</td>\n",
              "      <td>NaN</td>\n",
              "      <td>NaN</td>\n",
              "      <td>Indonesia</td>\n",
              "      <td>Asia</td>\n",
              "      <td>NaN</td>\n",
              "      <td>NaN</td>\n",
              "      <td>NaN</td>\n",
              "      <td>416</td>\n",
              "      <td>98.0</td>\n",
              "      <td>7230</td>\n",
              "      <td>8488.0</td>\n",
              "      <td>74953.0</td>\n",
              "      <td>1916907</td>\n",
              "      <td>265185520</td>\n",
              "      <td>138.34</td>\n",
              "      <td>113.921327</td>\n",
              "      <td>-0.789275</td>\n",
              "      <td>0.01</td>\n",
              "      <td>0.01</td>\n",
              "      <td>0.00</td>\n",
              "      <td>0.00</td>\n",
              "      <td>0.00</td>\n",
              "      <td>0.00%</td>\n",
              "      <td>0.00%</td>\n",
              "      <td>NaN</td>\n",
              "      <td>NaN</td>\n",
              "    </tr>\n",
              "    <tr>\n",
              "      <th>3</th>\n",
              "      <td>3/2/2020</td>\n",
              "      <td>ID-RI</td>\n",
              "      <td>Riau</td>\n",
              "      <td>1</td>\n",
              "      <td>0</td>\n",
              "      <td>0</td>\n",
              "      <td>1</td>\n",
              "      <td>2</td>\n",
              "      <td>0</td>\n",
              "      <td>0</td>\n",
              "      <td>2</td>\n",
              "      <td>Province</td>\n",
              "      <td>NaN</td>\n",
              "      <td>Riau</td>\n",
              "      <td>Indonesia</td>\n",
              "      <td>Asia</td>\n",
              "      <td>Sumatera</td>\n",
              "      <td>UTC+07:00</td>\n",
              "      <td>NaN</td>\n",
              "      <td>10</td>\n",
              "      <td>2.0</td>\n",
              "      <td>169</td>\n",
              "      <td>268.0</td>\n",
              "      <td>1591.0</td>\n",
              "      <td>87024</td>\n",
              "      <td>6074100</td>\n",
              "      <td>69.80</td>\n",
              "      <td>101.805109</td>\n",
              "      <td>0.511648</td>\n",
              "      <td>0.16</td>\n",
              "      <td>0.33</td>\n",
              "      <td>0.00</td>\n",
              "      <td>0.00</td>\n",
              "      <td>0.00</td>\n",
              "      <td>0.00%</td>\n",
              "      <td>0.00%</td>\n",
              "      <td>NaN</td>\n",
              "      <td>NaN</td>\n",
              "    </tr>\n",
              "    <tr>\n",
              "      <th>4</th>\n",
              "      <td>3/3/2020</td>\n",
              "      <td>ID-JK</td>\n",
              "      <td>DKI Jakarta</td>\n",
              "      <td>2</td>\n",
              "      <td>0</td>\n",
              "      <td>0</td>\n",
              "      <td>2</td>\n",
              "      <td>43</td>\n",
              "      <td>20</td>\n",
              "      <td>39</td>\n",
              "      <td>-16</td>\n",
              "      <td>Province</td>\n",
              "      <td>NaN</td>\n",
              "      <td>DKI Jakarta</td>\n",
              "      <td>Indonesia</td>\n",
              "      <td>Asia</td>\n",
              "      <td>Jawa</td>\n",
              "      <td>UTC+07:00</td>\n",
              "      <td>Daerah Khusus Ibu Kota</td>\n",
              "      <td>1</td>\n",
              "      <td>5.0</td>\n",
              "      <td>44</td>\n",
              "      <td>267.0</td>\n",
              "      <td>NaN</td>\n",
              "      <td>664</td>\n",
              "      <td>10846145</td>\n",
              "      <td>16334.31</td>\n",
              "      <td>106.836118</td>\n",
              "      <td>-6.204699</td>\n",
              "      <td>0.18</td>\n",
              "      <td>3.96</td>\n",
              "      <td>0.00</td>\n",
              "      <td>1.84</td>\n",
              "      <td>0.18</td>\n",
              "      <td>46.51%</td>\n",
              "      <td>90.70%</td>\n",
              "      <td>1.00</td>\n",
              "      <td>1.0</td>\n",
              "    </tr>\n",
              "    <tr>\n",
              "      <th>...</th>\n",
              "      <td>...</td>\n",
              "      <td>...</td>\n",
              "      <td>...</td>\n",
              "      <td>...</td>\n",
              "      <td>...</td>\n",
              "      <td>...</td>\n",
              "      <td>...</td>\n",
              "      <td>...</td>\n",
              "      <td>...</td>\n",
              "      <td>...</td>\n",
              "      <td>...</td>\n",
              "      <td>...</td>\n",
              "      <td>...</td>\n",
              "      <td>...</td>\n",
              "      <td>...</td>\n",
              "      <td>...</td>\n",
              "      <td>...</td>\n",
              "      <td>...</td>\n",
              "      <td>...</td>\n",
              "      <td>...</td>\n",
              "      <td>...</td>\n",
              "      <td>...</td>\n",
              "      <td>...</td>\n",
              "      <td>...</td>\n",
              "      <td>...</td>\n",
              "      <td>...</td>\n",
              "      <td>...</td>\n",
              "      <td>...</td>\n",
              "      <td>...</td>\n",
              "      <td>...</td>\n",
              "      <td>...</td>\n",
              "      <td>...</td>\n",
              "      <td>...</td>\n",
              "      <td>...</td>\n",
              "      <td>...</td>\n",
              "      <td>...</td>\n",
              "      <td>...</td>\n",
              "      <td>...</td>\n",
              "    </tr>\n",
              "    <tr>\n",
              "      <th>20811</th>\n",
              "      <td>11/5/2021</td>\n",
              "      <td>ID-ST</td>\n",
              "      <td>Sulawesi Tengah</td>\n",
              "      <td>11</td>\n",
              "      <td>0</td>\n",
              "      <td>0</td>\n",
              "      <td>11</td>\n",
              "      <td>47056</td>\n",
              "      <td>1595</td>\n",
              "      <td>45307</td>\n",
              "      <td>154</td>\n",
              "      <td>Province</td>\n",
              "      <td>NaN</td>\n",
              "      <td>Sulawesi Tengah</td>\n",
              "      <td>Indonesia</td>\n",
              "      <td>Asia</td>\n",
              "      <td>Sulawesi</td>\n",
              "      <td>UTC+08:00</td>\n",
              "      <td>NaN</td>\n",
              "      <td>12</td>\n",
              "      <td>1.0</td>\n",
              "      <td>175</td>\n",
              "      <td>175.0</td>\n",
              "      <td>1842.0</td>\n",
              "      <td>61841</td>\n",
              "      <td>2955567</td>\n",
              "      <td>47.79</td>\n",
              "      <td>121.201093</td>\n",
              "      <td>-1.004137</td>\n",
              "      <td>3.72</td>\n",
              "      <td>15921.14</td>\n",
              "      <td>0.00</td>\n",
              "      <td>539.66</td>\n",
              "      <td>53.97</td>\n",
              "      <td>3.39%</td>\n",
              "      <td>96.28%</td>\n",
              "      <td>1.57</td>\n",
              "      <td>0.0</td>\n",
              "    </tr>\n",
              "    <tr>\n",
              "      <th>20812</th>\n",
              "      <td>11/5/2021</td>\n",
              "      <td>ID-SA</td>\n",
              "      <td>Sulawesi Utara</td>\n",
              "      <td>3</td>\n",
              "      <td>1</td>\n",
              "      <td>1</td>\n",
              "      <td>1</td>\n",
              "      <td>34636</td>\n",
              "      <td>1039</td>\n",
              "      <td>33162</td>\n",
              "      <td>435</td>\n",
              "      <td>Province</td>\n",
              "      <td>NaN</td>\n",
              "      <td>Sulawesi Utara</td>\n",
              "      <td>Indonesia</td>\n",
              "      <td>Asia</td>\n",
              "      <td>Sulawesi</td>\n",
              "      <td>UTC+08:00</td>\n",
              "      <td>NaN</td>\n",
              "      <td>11</td>\n",
              "      <td>4.0</td>\n",
              "      <td>171</td>\n",
              "      <td>332.0</td>\n",
              "      <td>1507.0</td>\n",
              "      <td>13892</td>\n",
              "      <td>2641884</td>\n",
              "      <td>190.17</td>\n",
              "      <td>124.521240</td>\n",
              "      <td>1.259638</td>\n",
              "      <td>1.14</td>\n",
              "      <td>13110.34</td>\n",
              "      <td>0.38</td>\n",
              "      <td>393.28</td>\n",
              "      <td>39.33</td>\n",
              "      <td>3.00%</td>\n",
              "      <td>95.74%</td>\n",
              "      <td>1.50</td>\n",
              "      <td>NaN</td>\n",
              "    </tr>\n",
              "    <tr>\n",
              "      <th>20813</th>\n",
              "      <td>11/5/2021</td>\n",
              "      <td>ID-SB</td>\n",
              "      <td>Sumatera Barat</td>\n",
              "      <td>1</td>\n",
              "      <td>0</td>\n",
              "      <td>3</td>\n",
              "      <td>-2</td>\n",
              "      <td>89786</td>\n",
              "      <td>2147</td>\n",
              "      <td>87424</td>\n",
              "      <td>215</td>\n",
              "      <td>Province</td>\n",
              "      <td>NaN</td>\n",
              "      <td>Sumatera Barat</td>\n",
              "      <td>Indonesia</td>\n",
              "      <td>Asia</td>\n",
              "      <td>Sumatera</td>\n",
              "      <td>UTC+07:00</td>\n",
              "      <td>NaN</td>\n",
              "      <td>12</td>\n",
              "      <td>7.0</td>\n",
              "      <td>179</td>\n",
              "      <td>230.0</td>\n",
              "      <td>928.0</td>\n",
              "      <td>42013</td>\n",
              "      <td>5519245</td>\n",
              "      <td>131.37</td>\n",
              "      <td>100.465062</td>\n",
              "      <td>-0.850253</td>\n",
              "      <td>0.18</td>\n",
              "      <td>16267.80</td>\n",
              "      <td>0.00</td>\n",
              "      <td>389.00</td>\n",
              "      <td>38.90</td>\n",
              "      <td>2.39%</td>\n",
              "      <td>97.37%</td>\n",
              "      <td>1.00</td>\n",
              "      <td>1.0</td>\n",
              "    </tr>\n",
              "    <tr>\n",
              "      <th>20814</th>\n",
              "      <td>11/5/2021</td>\n",
              "      <td>ID-SS</td>\n",
              "      <td>Sumatera Selatan</td>\n",
              "      <td>1</td>\n",
              "      <td>0</td>\n",
              "      <td>0</td>\n",
              "      <td>1</td>\n",
              "      <td>59878</td>\n",
              "      <td>3068</td>\n",
              "      <td>56734</td>\n",
              "      <td>76</td>\n",
              "      <td>Province</td>\n",
              "      <td>NaN</td>\n",
              "      <td>Sumatera Selatan</td>\n",
              "      <td>Indonesia</td>\n",
              "      <td>Asia</td>\n",
              "      <td>Sumatera</td>\n",
              "      <td>UTC+07:00</td>\n",
              "      <td>NaN</td>\n",
              "      <td>13</td>\n",
              "      <td>4.0</td>\n",
              "      <td>241</td>\n",
              "      <td>387.0</td>\n",
              "      <td>2853.0</td>\n",
              "      <td>91592</td>\n",
              "      <td>8217551</td>\n",
              "      <td>89.72</td>\n",
              "      <td>104.169465</td>\n",
              "      <td>-3.216212</td>\n",
              "      <td>0.12</td>\n",
              "      <td>7286.60</td>\n",
              "      <td>0.00</td>\n",
              "      <td>373.35</td>\n",
              "      <td>37.33</td>\n",
              "      <td>5.12%</td>\n",
              "      <td>94.75%</td>\n",
              "      <td>0.25</td>\n",
              "      <td>1.0</td>\n",
              "    </tr>\n",
              "    <tr>\n",
              "      <th>20815</th>\n",
              "      <td>11/5/2021</td>\n",
              "      <td>ID-SU</td>\n",
              "      <td>Sumatera Utara</td>\n",
              "      <td>7</td>\n",
              "      <td>1</td>\n",
              "      <td>3</td>\n",
              "      <td>3</td>\n",
              "      <td>105888</td>\n",
              "      <td>2888</td>\n",
              "      <td>102657</td>\n",
              "      <td>343</td>\n",
              "      <td>Province</td>\n",
              "      <td>NaN</td>\n",
              "      <td>Sumatera Utara</td>\n",
              "      <td>Indonesia</td>\n",
              "      <td>Asia</td>\n",
              "      <td>Sumatera</td>\n",
              "      <td>UTC+07:00</td>\n",
              "      <td>NaN</td>\n",
              "      <td>25</td>\n",
              "      <td>8.0</td>\n",
              "      <td>450</td>\n",
              "      <td>693.0</td>\n",
              "      <td>5417.0</td>\n",
              "      <td>72981</td>\n",
              "      <td>14874889</td>\n",
              "      <td>203.82</td>\n",
              "      <td>99.051964</td>\n",
              "      <td>2.191894</td>\n",
              "      <td>0.47</td>\n",
              "      <td>7118.57</td>\n",
              "      <td>0.07</td>\n",
              "      <td>194.15</td>\n",
              "      <td>19.42</td>\n",
              "      <td>2.73%</td>\n",
              "      <td>96.95%</td>\n",
              "      <td>0.78</td>\n",
              "      <td>NaN</td>\n",
              "    </tr>\n",
              "  </tbody>\n",
              "</table>\n",
              "<p>20816 rows × 38 columns</p>\n",
              "</div>"
            ],
            "text/plain": [
              "            Date  ... Growth Factor of New Deaths\n",
              "0       3/1/2020  ...                         NaN\n",
              "1       3/2/2020  ...                         1.0\n",
              "2       3/2/2020  ...                         NaN\n",
              "3       3/2/2020  ...                         NaN\n",
              "4       3/3/2020  ...                         1.0\n",
              "...          ...  ...                         ...\n",
              "20811  11/5/2021  ...                         0.0\n",
              "20812  11/5/2021  ...                         NaN\n",
              "20813  11/5/2021  ...                         1.0\n",
              "20814  11/5/2021  ...                         1.0\n",
              "20815  11/5/2021  ...                         NaN\n",
              "\n",
              "[20816 rows x 38 columns]"
            ]
          },
          "metadata": {},
          "execution_count": 8
        }
      ]
    },
    {
      "cell_type": "markdown",
      "metadata": {
        "id": "QoR_ZItfcpYH"
      },
      "source": [
        "#Cari Measure of Central Tendency dari data covid19"
      ]
    },
    {
      "cell_type": "code",
      "metadata": {
        "colab": {
          "base_uri": "https://localhost:8080/"
        },
        "id": "TNVa7dLiUR5P",
        "outputId": "16e8c86b-786c-4490-eba7-c0975f07c413"
      },
      "source": [
        "# Menghitung rerata populasi menggunakan method .mean pada objek pandas dataframe\n",
        "print(df['Population'].mean())"
      ],
      "execution_count": 31,
      "outputs": [
        {
          "output_type": "stream",
          "name": "stdout",
          "text": [
            "15478445.128170637\n"
          ]
        }
      ]
    },
    {
      "cell_type": "code",
      "metadata": {
        "colab": {
          "base_uri": "https://localhost:8080/"
        },
        "id": "0gdXtUmlceJW",
        "outputId": "6cf1f8d8-86a8-4c9e-c5a2-3783726557b7"
      },
      "source": [
        "# Menghitung median dari populasi menggunakan pandas\n",
        "print (df['Population'].median())"
      ],
      "execution_count": 35,
      "outputs": [
        {
          "output_type": "stream",
          "name": "stdout",
          "text": [
            "4216171.0\n"
          ]
        }
      ]
    },
    {
      "cell_type": "code",
      "metadata": {
        "colab": {
          "base_uri": "https://localhost:8080/"
        },
        "id": "N_LwSaHeclUp",
        "outputId": "45004573-d6ee-4af7-a6f9-fa2a83b1f49c"
      },
      "source": [
        "# Menghitung mode dari populasi menggunakan pandas\n",
        "print (df['Population'].mode())"
      ],
      "execution_count": 36,
      "outputs": [
        {
          "output_type": "stream",
          "name": "stdout",
          "text": [
            "0    10846145\n",
            "dtype: int64\n"
          ]
        }
      ]
    },
    {
      "cell_type": "markdown",
      "metadata": {
        "id": "5feYU0R6dC4e"
      },
      "source": [
        "#Cari Measure of Variance dari data covid19"
      ]
    },
    {
      "cell_type": "code",
      "metadata": {
        "colab": {
          "base_uri": "https://localhost:8080/"
        },
        "id": "Qv66mIFpcXuL",
        "outputId": "9ddf4f14-5fbb-43dc-82e2-4cba09203b4e"
      },
      "source": [
        "# Menghitung variansi populasi menggunakan method .var() dari pandas\n",
        "print (df['Population'].var())"
      ],
      "execution_count": 33,
      "outputs": [
        {
          "output_type": "stream",
          "name": "stdout",
          "text": [
            "2009759099600182.5\n"
          ]
        }
      ]
    },
    {
      "cell_type": "code",
      "metadata": {
        "colab": {
          "base_uri": "https://localhost:8080/"
        },
        "id": "Pjhv_7g0cKXr",
        "outputId": "7bee22b9-9d4e-4947-bcd0-3061d2c9cf2b"
      },
      "source": [
        "# Menghitung deviasi baku sampel populasi menggunakan method .std() dari pandas\n",
        "print (df['Population'].std())"
      ],
      "execution_count": 30,
      "outputs": [
        {
          "output_type": "stream",
          "name": "stdout",
          "text": [
            "44830336.822292365\n"
          ]
        }
      ]
    }
  ]
}