{
  "nbformat": 4,
  "nbformat_minor": 0,
  "metadata": {
    "colab": {
      "name": "h8dsft_Linear_Algebra1.ipynb",
      "provenance": [],
      "collapsed_sections": []
    },
    "kernelspec": {
      "name": "python3",
      "display_name": "Python 3"
    },
    "language_info": {
      "name": "python"
    }
  },
  "cells": [
    {
      "cell_type": "code",
      "metadata": {
        "id": "geEOkzPn0ETm"
      },
      "source": [
        "'''\n",
        "Import library yang dibutuhkan yaitu numpy\n",
        "'''\n",
        "\n",
        "import numpy as np"
      ],
      "execution_count": 1,
      "outputs": []
    },
    {
      "cell_type": "markdown",
      "metadata": {
        "id": "-Smw5NtUcUxw"
      },
      "source": [
        "1. Buatlah vektor berikut dengan Python : [17, 22, 19]"
      ]
    },
    {
      "cell_type": "code",
      "metadata": {
        "colab": {
          "base_uri": "https://localhost:8080/"
        },
        "id": "ZRWUPKDA0MpP",
        "outputId": "9868d651-106b-4ecf-dbb5-d3da3647234b"
      },
      "source": [
        "'''\n",
        "Membuat vektor a sesuai data yang ada di guidlines non-graded challenge\n",
        "\n",
        "'''\n",
        "\n",
        "a = np.array([17, 22, 19])\n",
        "a"
      ],
      "execution_count": 2,
      "outputs": [
        {
          "output_type": "execute_result",
          "data": {
            "text/plain": [
              "array([17, 22, 19])"
            ]
          },
          "metadata": {},
          "execution_count": 2
        }
      ]
    },
    {
      "cell_type": "markdown",
      "metadata": {
        "id": "F2INEcoccmPP"
      },
      "source": [
        "2. Diberikan 3 buah vektor 3 dimensi yaitu vektor a, b dan c"
      ]
    },
    {
      "cell_type": "code",
      "metadata": {
        "id": "9u4Uc7tO0TZK"
      },
      "source": [
        "'''\n",
        "Membuat vektor b dan c sesuai data yang ada di guidlines non-graded challenge\n",
        "\n",
        "'''\n",
        "\n",
        "b = np.array([10, 20, 11])\n",
        "c = np.array([5, 12, 9]) "
      ],
      "execution_count": 3,
      "outputs": []
    },
    {
      "cell_type": "markdown",
      "metadata": {
        "id": "E-kb1iKLc20P"
      },
      "source": [
        "2.1 Hitunglah a + b"
      ]
    },
    {
      "cell_type": "code",
      "metadata": {
        "colab": {
          "base_uri": "https://localhost:8080/"
        },
        "id": "TG1srvH70jz5",
        "outputId": "fdd9d798-9f05-4732-8eb2-87462f9b21ab"
      },
      "source": [
        "'''\n",
        "Menghitung dan menampilkan hasil penjumlahan vektor a dan b\n",
        "\n",
        "'''\n",
        "\n",
        "hasil_1 = a + b\n",
        "hasil_1"
      ],
      "execution_count": 4,
      "outputs": [
        {
          "output_type": "execute_result",
          "data": {
            "text/plain": [
              "array([27, 42, 30])"
            ]
          },
          "metadata": {},
          "execution_count": 4
        }
      ]
    },
    {
      "cell_type": "markdown",
      "metadata": {
        "id": "X7MHH_1Nc7Zv"
      },
      "source": [
        "2.2 Hitunglah b - c"
      ]
    },
    {
      "cell_type": "code",
      "metadata": {
        "colab": {
          "base_uri": "https://localhost:8080/"
        },
        "id": "iKpCFsGA0vKT",
        "outputId": "2b09fd82-f3eb-4ee6-d397-7107d2255271"
      },
      "source": [
        "'''\n",
        "Menghitung dan menampilkan hasil pengurangan vektor b dan c\n",
        "\n",
        "'''\n",
        "\n",
        "hasil_2 = b - c\n",
        "hasil_2"
      ],
      "execution_count": 5,
      "outputs": [
        {
          "output_type": "execute_result",
          "data": {
            "text/plain": [
              "array([5, 8, 2])"
            ]
          },
          "metadata": {},
          "execution_count": 5
        }
      ]
    },
    {
      "cell_type": "markdown",
      "metadata": {
        "id": "mZmsbRx5c-7u"
      },
      "source": [
        "2.3 Hitunglah a dot c"
      ]
    },
    {
      "cell_type": "code",
      "metadata": {
        "colab": {
          "base_uri": "https://localhost:8080/"
        },
        "id": "7JRf7Jz_00ir",
        "outputId": "d121a84d-a893-4e7d-be2a-af8bb84f2ceb"
      },
      "source": [
        "'''\n",
        "Menghitung dan menampilkan hasil perhitungan vektor a dot vektor c\n",
        "\n",
        "'''\n",
        "\n",
        "hasil_3 = a.dot(c)\n",
        "hasil_3"
      ],
      "execution_count": 6,
      "outputs": [
        {
          "output_type": "execute_result",
          "data": {
            "text/plain": [
              "520"
            ]
          },
          "metadata": {},
          "execution_count": 6
        }
      ]
    },
    {
      "cell_type": "markdown",
      "metadata": {
        "id": "1y4RPUzHdDAC"
      },
      "source": [
        "2.4 Hitunglah a X b"
      ]
    },
    {
      "cell_type": "code",
      "metadata": {
        "colab": {
          "base_uri": "https://localhost:8080/"
        },
        "id": "TO25RbVv1Hdy",
        "outputId": "80195a31-0a9d-4b4f-e558-4f5673097cfb"
      },
      "source": [
        "'''\n",
        "Menghitung dan menampilkan hasil perkalian vektor a dan vektor b\n",
        "\n",
        "'''\n",
        "\n",
        "hasil_4 = a * b\n",
        "hasil_4"
      ],
      "execution_count": 7,
      "outputs": [
        {
          "output_type": "execute_result",
          "data": {
            "text/plain": [
              "array([170, 440, 209])"
            ]
          },
          "metadata": {},
          "execution_count": 7
        }
      ]
    },
    {
      "cell_type": "markdown",
      "metadata": {
        "id": "1od7tI1AdIWu"
      },
      "source": [
        "2.5 Hitunglah norm a"
      ]
    },
    {
      "cell_type": "code",
      "metadata": {
        "id": "nRJfw7Ud1UrX"
      },
      "source": [
        "'''\n",
        "Mengimport perintah norm dari library numpy.linalg agar perintah norm bisa\n",
        "digunakan untuk mencari norm pada vektor\n",
        "\n",
        "'''\n",
        "\n",
        "from numpy.linalg import norm"
      ],
      "execution_count": 8,
      "outputs": []
    },
    {
      "cell_type": "code",
      "metadata": {
        "colab": {
          "base_uri": "https://localhost:8080/"
        },
        "id": "ix0ek17X1flE",
        "outputId": "25d408c8-0ec5-4d75-9fdc-a28ff85918d0"
      },
      "source": [
        "'''\n",
        "Menghitung dan menampilkan hasil norm dari vektor a\n",
        "\n",
        "'''\n",
        "\n",
        "hasil_5 = norm(a)\n",
        "hasil_5"
      ],
      "execution_count": 9,
      "outputs": [
        {
          "output_type": "execute_result",
          "data": {
            "text/plain": [
              "33.67491648096547"
            ]
          },
          "metadata": {},
          "execution_count": 9
        }
      ]
    },
    {
      "cell_type": "markdown",
      "metadata": {
        "id": "G38gsr-YdNc9"
      },
      "source": [
        "2.6 Hitunglah sudut antara vektor a dan vektor b"
      ]
    },
    {
      "cell_type": "code",
      "metadata": {
        "id": "TcZTnMYD4oiz"
      },
      "source": [
        "'''\n",
        "Import perintah dot, arccos, clip pada library numpy dan akan digunakan untuk\n",
        "menghitung sudut antara vektor a dan b\n",
        "\n",
        "'''\n",
        "\n",
        "from numpy import (dot, arccos, clip)\n",
        "\n",
        "d = dot(a,b)/norm(a)/norm(b)\n",
        "sudut = arccos(clip(d, -1, 1))"
      ],
      "execution_count": 10,
      "outputs": []
    },
    {
      "cell_type": "code",
      "metadata": {
        "colab": {
          "base_uri": "https://localhost:8080/"
        },
        "id": "amCpRYab5Pna",
        "outputId": "a84fa028-d88b-4e02-cbb9-7b7712d0d24a"
      },
      "source": [
        "sudut"
      ],
      "execution_count": 11,
      "outputs": [
        {
          "output_type": "execute_result",
          "data": {
            "text/plain": [
              "0.21971776576153912"
            ]
          },
          "metadata": {},
          "execution_count": 11
        }
      ]
    },
    {
      "cell_type": "markdown",
      "metadata": {
        "id": "W4jraY34dSKq"
      },
      "source": [
        "3. Buatlah plot dari vektor u dan vektor v kedalam bidang 2D:"
      ]
    },
    {
      "cell_type": "code",
      "metadata": {
        "id": "0TcUhNtXWQw1"
      },
      "source": [
        "'''\n",
        "Import library matplotlib.pyplot untuk plot nilai dari vektor u dan vektor v\n",
        "\n",
        "'''\n",
        "\n",
        "import matplotlib.pyplot as plt"
      ],
      "execution_count": 13,
      "outputs": []
    },
    {
      "cell_type": "code",
      "metadata": {
        "id": "OSMbHD9WXgzW"
      },
      "source": [
        "'''\n",
        "Membuat vektor a sesuai data yang ada di guidlines non-graded challenge\n",
        "\n",
        "'''\n",
        "u = np.array([2,5])\n",
        "v = np.array([3,1])"
      ],
      "execution_count": 30,
      "outputs": []
    },
    {
      "cell_type": "code",
      "metadata": {
        "id": "y0E3KDu5ex2b"
      },
      "source": [
        "'''\n",
        "Fungsi untuk membuat anak panah\n",
        "\n",
        "'''\n",
        "\n",
        "def plot_vektor2d(vector2D, origin=[0, 0], **options):\n",
        "  return plt.arrow(origin[0], origin[1], vector2D[0], vector2D[1],\n",
        "                   head_width=0.2, head_length=0.3, length_includes_head=True,\n",
        "                   **options)"
      ],
      "execution_count": 31,
      "outputs": []
    },
    {
      "cell_type": "code",
      "metadata": {
        "colab": {
          "base_uri": "https://localhost:8080/",
          "height": 261
        },
        "id": "39Td1po5fmim",
        "outputId": "5f4aa871-4923-4a48-800e-a0994c037154"
      },
      "source": [
        "'''\n",
        "plot vektor u dan vektor v\n",
        "\n",
        "'''\n",
        "\n",
        "plot_vektor2d(u, color='r')\n",
        "plot_vektor2d(v, color='g')\n",
        "plt.axis([0, 9, 0, 6])\n",
        "plt.grid()\n",
        "plt.show()"
      ],
      "execution_count": 33,
      "outputs": [
        {
          "output_type": "display_data",
          "data": {
            "image/png": "[encoded data removed]",
            "text/plain": [
              "<Figure size 540x252 with 1 Axes>"
            ]
          },
          "metadata": {
            "needs_background": "light"
          }
        }
      ]
    }
  ]
}