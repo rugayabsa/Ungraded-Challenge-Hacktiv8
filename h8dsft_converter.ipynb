{
  "nbformat": 4,
  "nbformat_minor": 0,
  "metadata": {
    "colab": {
      "name": "h8dsft_converter.ipynb",
      "provenance": [],
      "collapsed_sections": []
    },
    "kernelspec": {
      "name": "python3",
      "display_name": "Python 3"
    },
    "language_info": {
      "name": "python"
    }
  },
  "cells": [
    {
      "cell_type": "markdown",
      "metadata": {
        "id": "RVyTHLmJXrVE"
      },
      "source": [
        "Buatlah sebuah function yang dapat mengkonversi suhu dari kelvin ke celcius, dan celcius ke kelvin."
      ]
    },
    {
      "cell_type": "code",
      "metadata": {
        "colab": {
          "base_uri": "https://localhost:8080/"
        },
        "id": "E7mrHcfmXth4",
        "outputId": "9446c60e-4d82-43ec-d3b3-af227c877459"
      },
      "source": [
        "def cel2kelv(nilai_cel):\n",
        "  kelv = nilai_cel + 273.15\n",
        "  \n",
        "  return kelv\n",
        "\n",
        "def kelv2cel(nilai_kelv):\n",
        "  cel = nilai_kelv - 273.15\n",
        "\n",
        "  return cel\n",
        "\n",
        "print(cel2kelv(nilai_cel = 45))\n",
        "print(kelv2cel(nilai_kelv = 313))"
      ],
      "execution_count": 5,
      "outputs": [
        {
          "output_type": "stream",
          "name": "stdout",
          "text": [
            "318.15\n",
            "39.85000000000002\n"
          ]
        }
      ]
    },
    {
      "cell_type": "markdown",
      "metadata": {
        "id": "LxLTB8fiaAbm"
      },
      "source": [
        "Buatlah sebuah function yang dapat mengkonversi suhu ke fahrenheit. \n",
        "\n",
        "Tambahkan parameter untuk memastikan bahwa argumen yang dimasukan adalah celcius atau kelvin. \n",
        "\n",
        "Panggil function yang pertama jika diperlukan."
      ]
    },
    {
      "cell_type": "code",
      "metadata": {
        "colab": {
          "base_uri": "https://localhost:8080/"
        },
        "id": "h1jfykDlaFZn",
        "outputId": "fdbb3acb-4a8d-4fa8-8ffb-a1ea03773f15"
      },
      "source": [
        "def konversi_2_fharenheit(suhu, nilai):\n",
        "  '''\n",
        "  Fungsi ini digunakan untuk konversi nilai derajat suatu suhu (celcius, kelvin, reamur) ke derajat fahrenheit\n",
        "\n",
        "  Parameter inputannya menggunakan Required Argument yaitu suhu dan nilai, dimana suhu tipe datanya str dan nilai tipe datanya int\n",
        "\n",
        "  Outputnya nilai suhu dalam derajat fahrenheit tipe data float\n",
        "  \n",
        "  '''\n",
        "  if suhu == 'Celcius':\n",
        "    fahr = 9/5 * nilai + 32\n",
        "  elif suhu == 'Kelvin':\n",
        "    fahr = 9/5 * (nilai - 273) + 32\n",
        "  else:\n",
        "    fahr = 9/4 * nilai + 32\n",
        "  \n",
        "  return fahr\n",
        "\n",
        "print(konversi_2_fharenheit(suhu = 'Celcius', nilai = 78))\n",
        "print(konversi_2_fharenheit(suhu = 'Kelvin', nilai = 321))\n",
        "print(konversi_2_fharenheit(suhu = 'Reamur', nilai = 112))"
      ],
      "execution_count": 16,
      "outputs": [
        {
          "output_type": "stream",
          "name": "stdout",
          "text": [
            "172.4\n",
            "118.4\n",
            "284.0\n"
          ]
        }
      ]
    }
  ]
}