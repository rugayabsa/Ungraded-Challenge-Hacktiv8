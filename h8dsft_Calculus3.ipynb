{
  "nbformat": 4,
  "nbformat_minor": 0,
  "metadata": {
    "colab": {
      "name": "h8dsft_Calculus3.ipynb",
      "provenance": [],
      "collapsed_sections": []
    },
    "kernelspec": {
      "name": "python3",
      "display_name": "Python 3"
    },
    "language_info": {
      "name": "python"
    }
  },
  "cells": [
    {
      "cell_type": "code",
      "metadata": {
        "id": "l9U0e6Q2o_EK"
      },
      "source": [
        "'''\n",
        "import library sympy untuk mendefinisikan dan menghitung integral\n",
        "\n",
        "'''\n",
        "\n",
        "import sympy as sy"
      ],
      "execution_count": 1,
      "outputs": []
    },
    {
      "cell_type": "code",
      "metadata": {
        "colab": {
          "base_uri": "https://localhost:8080/",
          "height": 39
        },
        "id": "83P_CDL8sfZc",
        "outputId": "2f43920c-9aa0-419a-e804-a8d7cb6faa2c"
      },
      "source": [
        "'''\n",
        "Mendefinisikan variabel x dan y sebagai menggunakan perintah symbols\n",
        "\n",
        "Mendefinisikan fungsi f\n",
        "\n",
        "'''\n",
        "\n",
        "x = sy.Symbol('x')\n",
        "f = 3*x**2-6*x+3\n",
        "f"
      ],
      "execution_count": 2,
      "outputs": [
        {
          "output_type": "execute_result",
          "data": {
            "text/latex": "$\\displaystyle 3 x^{2} - 6 x + 3$",
            "text/plain": [
              "3*x**2 - 6*x + 3"
            ]
          },
          "metadata": {},
          "execution_count": 2
        }
      ]
    },
    {
      "cell_type": "code",
      "metadata": {
        "colab": {
          "base_uri": "https://localhost:8080/",
          "height": 39
        },
        "id": "coQ2aoM2tYAG",
        "outputId": "c7b44ad3-9e16-4999-d610-4acf976e4da4"
      },
      "source": [
        "'''\n",
        "Menghitung integral dari fungsi f\n",
        "\n",
        "'''\n",
        "\n",
        "integral = sy.integrate(f)\n",
        "integral"
      ],
      "execution_count": 3,
      "outputs": [
        {
          "output_type": "execute_result",
          "data": {
            "text/latex": "$\\displaystyle x^{3} - 3 x^{2} + 3 x$",
            "text/plain": [
              "x**3 - 3*x**2 + 3*x"
            ]
          },
          "metadata": {},
          "execution_count": 3
        }
      ]
    },
    {
      "cell_type": "code",
      "metadata": {
        "colab": {
          "base_uri": "https://localhost:8080/",
          "height": 39
        },
        "id": "_fGiwMI9tmuJ",
        "outputId": "91268980-f7fa-44e7-8656-6d3a02056c53"
      },
      "source": [
        "'''\n",
        "Mendefinisikan fungsi f2\n",
        "\n",
        "'''\n",
        "f2 = 8*x**3-x**2+5*x-1\n",
        "f2 "
      ],
      "execution_count": 5,
      "outputs": [
        {
          "output_type": "execute_result",
          "data": {
            "text/latex": "$\\displaystyle 8 x^{3} - x^{2} + 5 x - 1$",
            "text/plain": [
              "8*x**3 - x**2 + 5*x - 1"
            ]
          },
          "metadata": {},
          "execution_count": 5
        }
      ]
    },
    {
      "cell_type": "code",
      "metadata": {
        "colab": {
          "base_uri": "https://localhost:8080/",
          "height": 54
        },
        "id": "wpdiO4xMt34A",
        "outputId": "a2e29315-629a-45f8-81df-a1794a15263a"
      },
      "source": [
        "'''\n",
        "Menghitung integral dari fungsi f2\n",
        "\n",
        "'''\n",
        "\n",
        "integral_2 = sy.integrate(f2)\n",
        "integral_2"
      ],
      "execution_count": 6,
      "outputs": [
        {
          "output_type": "execute_result",
          "data": {
            "text/latex": "$\\displaystyle 2 x^{4} - \\frac{x^{3}}{3} + \\frac{5 x^{2}}{2} - x$",
            "text/plain": [
              "2*x**4 - x**3/3 + 5*x**2/2 - x"
            ]
          },
          "metadata": {},
          "execution_count": 6
        }
      ]
    }
  ]
}