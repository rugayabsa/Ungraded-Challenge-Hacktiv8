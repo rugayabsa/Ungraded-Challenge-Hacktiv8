{
  "nbformat": 4,
  "nbformat_minor": 0,
  "metadata": {
    "colab": {
      "name": "h8dsft_Calculus2.ipynb",
      "provenance": [],
      "collapsed_sections": []
    },
    "kernelspec": {
      "name": "python3",
      "display_name": "Python 3"
    },
    "language_info": {
      "name": "python"
    }
  },
  "cells": [
    {
      "cell_type": "code",
      "metadata": {
        "id": "hCRi7yHftcQv"
      },
      "source": [
        "'''\n",
        "Import library sympy untuk mendefinisikan fungsi f\n",
        "\n",
        "'''\n",
        "\n",
        "import sympy as sy"
      ],
      "execution_count": 2,
      "outputs": []
    },
    {
      "cell_type": "code",
      "metadata": {
        "colab": {
          "base_uri": "https://localhost:8080/",
          "height": 39
        },
        "id": "Z2lRz7qOp-Cd",
        "outputId": "4729f757-f03c-41c6-f8b3-17f4d250e8cb"
      },
      "source": [
        "'''\n",
        "Mendefinisikan variabel x dan y sebagai menggunakan perintah symbols\n",
        "\n",
        "Mendefinisikan fungsi f\n",
        "\n",
        "'''\n",
        "\n",
        "x,y = sy.symbols('x y')\n",
        "f = 3*x+4*y-5\n",
        "f"
      ],
      "execution_count": 9,
      "outputs": [
        {
          "output_type": "execute_result",
          "data": {
            "text/latex": "$\\displaystyle 3 x + 4 y - 5$",
            "text/plain": [
              "3*x + 4*y - 5"
            ]
          },
          "metadata": {},
          "execution_count": 9
        }
      ]
    },
    {
      "cell_type": "code",
      "metadata": {
        "colab": {
          "base_uri": "https://localhost:8080/",
          "height": 38
        },
        "id": "eyxjBJanqnKz",
        "outputId": "03ca21af-99bd-4f4e-da2f-57e787527e97"
      },
      "source": [
        "'''\n",
        "Mencari gradient dari fungsi f menggunakan perintah derive_by_array\n",
        "yang diimport dari library sympy.tensor.array\n",
        "\n",
        "'''\n",
        "\n",
        "from sympy.tensor.array import derive_by_array\n",
        "\n",
        "derive_by_array(f, (x,y))"
      ],
      "execution_count": 10,
      "outputs": [
        {
          "output_type": "execute_result",
          "data": {
            "text/latex": "$\\displaystyle \\left[\\begin{matrix}3 & 4\\end{matrix}\\right]$",
            "text/plain": [
              "[3, 4]"
            ]
          },
          "metadata": {},
          "execution_count": 10
        }
      ]
    },
    {
      "cell_type": "code",
      "metadata": {
        "id": "nRZZogJCrHnc"
      },
      "source": [
        "'''\n",
        "Nilai gradient dari fungsi f yang diturunkan terhadap x adalah 3\n",
        "dan nilai gradient yang diturunkan terhadap y adalah 4\n",
        "\n",
        "'''"
      ],
      "execution_count": null,
      "outputs": []
    }
  ]
}