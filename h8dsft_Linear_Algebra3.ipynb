{
  "nbformat": 4,
  "nbformat_minor": 0,
  "metadata": {
    "colab": {
      "name": "h8dsft_Linear_Algebra3.ipynb",
      "provenance": [],
      "collapsed_sections": []
    },
    "kernelspec": {
      "name": "python3",
      "display_name": "Python 3"
    },
    "language_info": {
      "name": "python"
    }
  },
  "cells": [
    {
      "cell_type": "code",
      "metadata": {
        "id": "Au8RGPiOepfE"
      },
      "source": [
        "'''\n",
        "Import library numpy untuk digunakan dalam mendefinisikan matrix\n",
        "\n",
        "Import perintah eig dari library numpy.linalg untuk digunakan dalam mencari\n",
        "eigen value dan eigen vector\n",
        "\n",
        "'''\n",
        "\n",
        "import numpy as np\n",
        "from numpy.linalg import eig"
      ],
      "execution_count": null,
      "outputs": []
    },
    {
      "cell_type": "code",
      "metadata": {
        "id": "6iL_zRGD7vNT"
      },
      "source": [
        "'''\n",
        "Mendefinisikan Matrix\n",
        "\n",
        "'''\n",
        "\n",
        "matrix = np.array([[1, -1], [6,4]])"
      ],
      "execution_count": null,
      "outputs": []
    },
    {
      "cell_type": "code",
      "metadata": {
        "id": "HpRs-6_s8dS2"
      },
      "source": [
        "'''\n",
        "Menghitung nilai eigen value dan eigen vector\n",
        "\n",
        "'''\n",
        "eigVal, eigVec = eig(matrix)"
      ],
      "execution_count": null,
      "outputs": []
    },
    {
      "cell_type": "code",
      "metadata": {
        "colab": {
          "base_uri": "https://localhost:8080/"
        },
        "id": "VdWn6e6X8rcH",
        "outputId": "b4f48a26-3b1f-493c-b81e-46674ab917e8"
      },
      "source": [
        "'''\n",
        "Menampilkan eigen value\n",
        "\n",
        "'''\n",
        "eigVal"
      ],
      "execution_count": null,
      "outputs": [
        {
          "output_type": "execute_result",
          "data": {
            "text/plain": [
              "array([2.5+1.93649167j, 2.5-1.93649167j])"
            ]
          },
          "metadata": {},
          "execution_count": 6
        }
      ]
    },
    {
      "cell_type": "code",
      "metadata": {
        "colab": {
          "base_uri": "https://localhost:8080/"
        },
        "id": "vILDfDpD8tmU",
        "outputId": "85956789-7cf9-4695-d7a5-eb7ee243cceb"
      },
      "source": [
        "'''\n",
        "Menampilkan eigen vector\n",
        "\n",
        "'''\n",
        "\n",
        "eigVec"
      ],
      "execution_count": null,
      "outputs": [
        {
          "output_type": "execute_result",
          "data": {
            "text/plain": [
              "array([[-0.23145502+0.29880715j, -0.23145502-0.29880715j],\n",
              "       [ 0.9258201 +0.j        ,  0.9258201 -0.j        ]])"
            ]
          },
          "metadata": {},
          "execution_count": 7
        }
      ]
    },
    {
      "cell_type": "code",
      "metadata": {
        "id": "KDFz7Syt8vH-"
      },
      "source": [
        "'''\n",
        "Reconstruct matrix\n",
        "\n",
        "'''\n",
        "\n",
        "Z = eigVec@np.diag(eigVal)@np.linalg.inv(eigVec)"
      ],
      "execution_count": null,
      "outputs": []
    },
    {
      "cell_type": "code",
      "metadata": {
        "colab": {
          "base_uri": "https://localhost:8080/"
        },
        "id": "-P61VF1i9cbL",
        "outputId": "28539c66-7f4b-40bf-a67a-885a487c305f"
      },
      "source": [
        "'''\n",
        "Menampilkan nilai Z\n",
        "\n",
        "'''\n",
        "\n",
        "Z"
      ],
      "execution_count": null,
      "outputs": [
        {
          "output_type": "execute_result",
          "data": {
            "text/plain": [
              "array([[ 1.+1.40042907e-16j, -1.-1.64348860e-17j],\n",
              "       [ 6.+2.45405006e-16j,  4.+1.39206967e-17j]])"
            ]
          },
          "metadata": {},
          "execution_count": 9
        }
      ]
    },
    {
      "cell_type": "code",
      "metadata": {
        "colab": {
          "base_uri": "https://localhost:8080/"
        },
        "id": "tCeVgW939f6v",
        "outputId": "08a32ad0-f82b-4dac-eb79-4d6fc365a9b9"
      },
      "source": [
        "np.allclose(matrix, Z)"
      ],
      "execution_count": null,
      "outputs": [
        {
          "output_type": "execute_result",
          "data": {
            "text/plain": [
              "True"
            ]
          },
          "metadata": {},
          "execution_count": 10
        }
      ]
    }
  ]
}