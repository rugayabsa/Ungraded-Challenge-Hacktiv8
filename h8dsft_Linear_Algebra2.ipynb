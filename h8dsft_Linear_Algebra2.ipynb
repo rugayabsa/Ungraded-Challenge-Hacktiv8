{
  "nbformat": 4,
  "nbformat_minor": 0,
  "metadata": {
    "colab": {
      "name": "h8dsft_Linear_Algebra2.ipynb",
      "provenance": [],
      "collapsed_sections": []
    },
    "kernelspec": {
      "name": "python3",
      "display_name": "Python 3"
    },
    "language_info": {
      "name": "python"
    }
  },
  "cells": [
    {
      "cell_type": "code",
      "metadata": {
        "id": "KRxZ0su84yCt"
      },
      "source": [
        "'''\n",
        "import library numpy agar dapat membuat matrix dan melakukan perhitungan\n",
        "\n",
        "'''\n",
        "\n",
        "import numpy as np"
      ],
      "execution_count": 1,
      "outputs": []
    },
    {
      "cell_type": "markdown",
      "metadata": {
        "id": "pjIXb8VUG8La"
      },
      "source": [
        "1. Buatlah Tensor menggunakan nilai yang sudah ditentukan dengan Python"
      ]
    },
    {
      "cell_type": "code",
      "metadata": {
        "colab": {
          "base_uri": "https://localhost:8080/"
        },
        "id": "sOpN0O7I40dC",
        "outputId": "cfdb2fa3-8321-4e23-d6c3-d00f3fe17218"
      },
      "source": [
        "'''\n",
        "Membuat tensor sesuai dengan nilai yang ada pada guidlines non-graded challenge 4\n",
        "\n",
        "'''\n",
        "\n",
        "tensor = np.array([[[23,50], [7,12], [75,21], [57,12]], [[57,67], [99,43], [87,26], [18,84]]])\n",
        "print(tensor.shape)\n",
        "print(tensor)"
      ],
      "execution_count": 2,
      "outputs": [
        {
          "output_type": "stream",
          "name": "stdout",
          "text": [
            "(2, 4, 2)\n",
            "[[[23 50]\n",
            "  [ 7 12]\n",
            "  [75 21]\n",
            "  [57 12]]\n",
            "\n",
            " [[57 67]\n",
            "  [99 43]\n",
            "  [87 26]\n",
            "  [18 84]]]\n"
          ]
        }
      ]
    },
    {
      "cell_type": "markdown",
      "metadata": {
        "id": "xTWbngoMHGWP"
      },
      "source": [
        "2. Lakukan perkalian terhadap matrix A dan matrix B berikut:"
      ]
    },
    {
      "cell_type": "code",
      "metadata": {
        "id": "czyfhMjB5yJe"
      },
      "source": [
        "'''\n",
        "Membuat matrix A dan matrix B terlebih dahulu\n",
        "\n",
        "'''\n",
        "\n",
        "\n",
        "A = np.array([[23,50,19], [7,12,109], [57,67,98]])\n",
        "B = np.array([[17,22,19]])"
      ],
      "execution_count": 3,
      "outputs": []
    },
    {
      "cell_type": "code",
      "metadata": {
        "colab": {
          "base_uri": "https://localhost:8080/"
        },
        "id": "bP859zIeCpIx",
        "outputId": "2461b3e3-3806-4a3c-afa6-a81e0436f2f3"
      },
      "source": [
        "'''\n",
        "Perkalian matrix A dengan matrix B\n",
        "\n",
        "'''\n",
        "\n",
        "\n",
        "print(B.dot(A))"
      ],
      "execution_count": 4,
      "outputs": [
        {
          "output_type": "stream",
          "name": "stdout",
          "text": [
            "[[1628 2387 4583]]\n"
          ]
        }
      ]
    },
    {
      "cell_type": "markdown",
      "metadata": {
        "id": "n1K4nH89IM_o"
      },
      "source": [
        "3. Lakukan Transpose, hitung determinan, dan inverse terhadap matrix A"
      ]
    },
    {
      "cell_type": "code",
      "metadata": {
        "id": "9yvQ9KUCCu3x"
      },
      "source": [
        "'''\n",
        "Membuat matrix A sesuai nilai yang ditentukan di guidlines non-graded challenge\n",
        "\n",
        "'''\n",
        "\n",
        "A = np.array([[23,50,19], [7,12,109], [57,67,98]])"
      ],
      "execution_count": 5,
      "outputs": []
    },
    {
      "cell_type": "code",
      "metadata": {
        "colab": {
          "base_uri": "https://localhost:8080/"
        },
        "id": "DSJ41kNoGHQh",
        "outputId": "58b5a049-b99b-44aa-baed-01fb4b7b4182"
      },
      "source": [
        "'''\n",
        "Menampilkan matrix A, melakukan transpose matrix A, dan menampilkan hasil matrix\n",
        "A setelah ditranspose\n",
        "\n",
        "'''\n",
        "print(A)\n",
        "print('transpose:\\n', A.T)"
      ],
      "execution_count": 6,
      "outputs": [
        {
          "output_type": "stream",
          "name": "stdout",
          "text": [
            "[[ 23  50  19]\n",
            " [  7  12 109]\n",
            " [ 57  67  98]]\n",
            "transpose:\n",
            " [[ 23   7  57]\n",
            " [ 50  12  67]\n",
            " [ 19 109  98]]\n"
          ]
        }
      ]
    },
    {
      "cell_type": "code",
      "metadata": {
        "id": "4ot3l9NVGOTl"
      },
      "source": [
        "'''\n",
        "Import det dan inv dari library numpy agar dapat melakukan perhitungan \n",
        "invers dan determinant\n",
        "\n",
        "'''\n",
        "\n",
        "from numpy.linalg import det\n",
        "from numpy.linalg import inv"
      ],
      "execution_count": 7,
      "outputs": []
    },
    {
      "cell_type": "code",
      "metadata": {
        "colab": {
          "base_uri": "https://localhost:8080/"
        },
        "id": "KFe75cPzGgY4",
        "outputId": "ec92ce95-c8ee-4e2c-ef81-6c19ac0dd115"
      },
      "source": [
        "'''\n",
        "Melakukan determinant matrix A\n",
        "\n",
        "'''\n",
        "det(A)"
      ],
      "execution_count": 8,
      "outputs": [
        {
          "output_type": "execute_result",
          "data": {
            "text/plain": [
              "131344.0000000002"
            ]
          },
          "metadata": {},
          "execution_count": 8
        }
      ]
    },
    {
      "cell_type": "code",
      "metadata": {
        "colab": {
          "base_uri": "https://localhost:8080/"
        },
        "id": "gfP_hzOQGhi7",
        "outputId": "ff47ef30-bf9d-4795-86a0-bb93f3f02425"
      },
      "source": [
        "'''\n",
        "Melakukan invers matrix A\n",
        "\n",
        "'''\n",
        "inv(A)"
      ],
      "execution_count": 9,
      "outputs": [
        {
          "output_type": "execute_result",
          "data": {
            "text/plain": [
              "array([[-0.0466485 , -0.02761451,  0.03975819],\n",
              "       [ 0.04208034,  0.00891552, -0.01807467],\n",
              "       [-0.00163692,  0.0099662 , -0.00056341]])"
            ]
          },
          "metadata": {},
          "execution_count": 9
        }
      ]
    }
  ]
}