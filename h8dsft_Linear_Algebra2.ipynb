{
  "nbformat": 4,
  "nbformat_minor": 0,
  "metadata": {
    "colab": {
      "name": "h8dsft_Linear_Algebra2.ipynb",
      "provenance": [],
      "collapsed_sections": []
    },
    "kernelspec": {
      "name": "python3",
      "display_name": "Python 3"
    },
    "language_info": {
      "name": "python"
    }
  },
  "cells": [
    {
      "cell_type": "code",
      "metadata": {
        "id": "KRxZ0su84yCt"
      },
      "source": [
        "'''\n",
        "import library numpy agar dapat membuat matrix dan melakukan perhitungan\n",
        "\n",
        "'''\n",
        "\n",
        "import numpy as np"
      ],
      "execution_count": 1,
      "outputs": []
    },
    {
      "cell_type": "markdown",
      "metadata": {
        "id": "pjIXb8VUG8La"
      },
      "source": [
        "1. Buatlah Tensor menggunakan nilai yang sudah ditentukan dengan Python"
      ]
    },
    {
      "cell_type": "code",
      "metadata": {
        "colab": {
          "base_uri": "https://localhost:8080/"
        },
        "id": "sOpN0O7I40dC",
        "outputId": "0e920000-bbc0-446f-feed-3bc53788cc82"
      },
      "source": [
        "'''\n",
        "Membuat tensor sesuai dengan nilai yang ada pada guidlines non-graded challenge 4\n",
        "\n",
        "'''\n",
        "\n",
        "tensor = np.array([[[23,50], [7,12], [75,21], [57,12]], [[57,67], [99,43], [87,26], [18,84]]])\n",
        "print(tensor.shape)\n",
        "print(tensor)"
      ],
      "execution_count": 4,
      "outputs": [
        {
          "output_type": "stream",
          "name": "stdout",
          "text": [
            "(2, 4, 2)\n",
            "[[[23 50]\n",
            "  [ 7 12]\n",
            "  [75 21]\n",
            "  [57 12]]\n",
            "\n",
            " [[57 67]\n",
            "  [99 43]\n",
            "  [87 26]\n",
            "  [18 84]]]\n"
          ]
        }
      ]
    },
    {
      "cell_type": "markdown",
      "metadata": {
        "id": "xTWbngoMHGWP"
      },
      "source": [
        "2. Lakukan perkalian terhadap matrix A dan matrix B berikut:"
      ]
    },
    {
      "cell_type": "code",
      "metadata": {
        "id": "czyfhMjB5yJe"
      },
      "source": [
        "'''\n",
        "Membuat matrix A dan matrix B terlebih dahulu\n",
        "\n",
        "'''\n",
        "\n",
        "\n",
        "A = np.array([[23,50,19], [7,12,109], [57,67,98]])\n",
        "B = np.array([[17,22,19]])"
      ],
      "execution_count": 7,
      "outputs": []
    },
    {
      "cell_type": "code",
      "metadata": {
        "colab": {
          "base_uri": "https://localhost:8080/"
        },
        "id": "RtRCtdFjAjK0",
        "outputId": "17d56314-c25a-4ec1-9c95-926741a15cb8"
      },
      "source": [
        "'''\n",
        "Melakukan transpose pada matrix B terlebih dahulu dikarenakan tidak dapat \n",
        "melakukan perkalian matrix karena jumlah kolom pada matrix A (3,3) nilainya \n",
        "berbeda dengan jumlah baris yang ada pada matrix B (1,3).\n",
        "\n",
        "Sehingga matrix B harus di transpose terlebih dahulu dan didefinisikan sebagai\n",
        "matrix C (3,1)\n",
        "\n",
        "'''\n",
        "\n",
        "C = B.T\n",
        "C"
      ],
      "execution_count": 11,
      "outputs": [
        {
          "output_type": "execute_result",
          "data": {
            "text/plain": [
              "array([[17],\n",
              "       [22],\n",
              "       [19]])"
            ]
          },
          "metadata": {},
          "execution_count": 11
        }
      ]
    },
    {
      "cell_type": "code",
      "metadata": {
        "colab": {
          "base_uri": "https://localhost:8080/"
        },
        "id": "bP859zIeCpIx",
        "outputId": "014b96c6-315d-4583-fe16-0a6ef447a808"
      },
      "source": [
        "'''\n",
        "Perkalian matrix A dengan matrix C\n",
        "\n",
        "'''\n",
        "\n",
        "\n",
        "print(A.dot(C))"
      ],
      "execution_count": 12,
      "outputs": [
        {
          "output_type": "stream",
          "name": "stdout",
          "text": [
            "[[1852]\n",
            " [2454]\n",
            " [4305]]\n"
          ]
        }
      ]
    },
    {
      "cell_type": "markdown",
      "metadata": {
        "id": "n1K4nH89IM_o"
      },
      "source": [
        "3. Lakukan Transpose, hitung determinan, dan inverse terhadap matrix A"
      ]
    },
    {
      "cell_type": "code",
      "metadata": {
        "id": "9yvQ9KUCCu3x"
      },
      "source": [
        "'''\n",
        "Membuat matrix A sesuai nilai yang ditentukan di guidlines non-graded challenge\n",
        "\n",
        "'''\n",
        "\n",
        "A = np.array([[23,50,19], [7,12,109], [57,67,98]])"
      ],
      "execution_count": 13,
      "outputs": []
    },
    {
      "cell_type": "code",
      "metadata": {
        "colab": {
          "base_uri": "https://localhost:8080/"
        },
        "id": "DSJ41kNoGHQh",
        "outputId": "620cae3a-3b17-46c4-c309-949b5ec63ec5"
      },
      "source": [
        "'''\n",
        "Menampilkan matrix A, melakukan transpose matrix A, dan menampilkan hasil matrix\n",
        "A setelah ditranspose\n",
        "\n",
        "'''\n",
        "print(A)\n",
        "print('transpose:\\n', A.T)"
      ],
      "execution_count": 14,
      "outputs": [
        {
          "output_type": "stream",
          "name": "stdout",
          "text": [
            "[[ 23  50  19]\n",
            " [  7  12 109]\n",
            " [ 57  67  98]]\n",
            "transpose:\n",
            " [[ 23   7  57]\n",
            " [ 50  12  67]\n",
            " [ 19 109  98]]\n"
          ]
        }
      ]
    },
    {
      "cell_type": "code",
      "metadata": {
        "id": "4ot3l9NVGOTl"
      },
      "source": [
        "'''\n",
        "Import det dan inv dari library numpy agar dapat melakukan perhitungan \n",
        "invers dan determinant\n",
        "\n",
        "'''\n",
        "\n",
        "from numpy.linalg import det\n",
        "from numpy.linalg import inv"
      ],
      "execution_count": 17,
      "outputs": []
    },
    {
      "cell_type": "code",
      "metadata": {
        "colab": {
          "base_uri": "https://localhost:8080/"
        },
        "id": "KFe75cPzGgY4",
        "outputId": "6292a5bd-69f1-4014-ddb4-8f7cea1ec25a"
      },
      "source": [
        "'''\n",
        "Melakukan determinant matrix A\n",
        "\n",
        "'''\n",
        "det(A)"
      ],
      "execution_count": 18,
      "outputs": [
        {
          "output_type": "execute_result",
          "data": {
            "text/plain": [
              "131344.0000000002"
            ]
          },
          "metadata": {},
          "execution_count": 18
        }
      ]
    },
    {
      "cell_type": "code",
      "metadata": {
        "colab": {
          "base_uri": "https://localhost:8080/"
        },
        "id": "gfP_hzOQGhi7",
        "outputId": "2938a02d-7f10-4c2f-d043-70519717a739"
      },
      "source": [
        "'''\n",
        "Melakukan invers matrix A\n",
        "\n",
        "'''\n",
        "inv(A)"
      ],
      "execution_count": 19,
      "outputs": [
        {
          "output_type": "execute_result",
          "data": {
            "text/plain": [
              "array([[-0.0466485 , -0.02761451,  0.03975819],\n",
              "       [ 0.04208034,  0.00891552, -0.01807467],\n",
              "       [-0.00163692,  0.0099662 , -0.00056341]])"
            ]
          },
          "metadata": {},
          "execution_count": 19
        }
      ]
    }
  ]
}