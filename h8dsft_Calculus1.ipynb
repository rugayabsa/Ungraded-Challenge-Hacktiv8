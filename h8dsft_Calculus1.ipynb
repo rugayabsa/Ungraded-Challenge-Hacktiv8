{
  "nbformat": 4,
  "nbformat_minor": 0,
  "metadata": {
    "colab": {
      "name": "h8dsft_Calculus1.ipynb",
      "provenance": [],
      "collapsed_sections": []
    },
    "kernelspec": {
      "name": "python3",
      "display_name": "Python 3"
    },
    "language_info": {
      "name": "python"
    }
  },
  "cells": [
    {
      "cell_type": "code",
      "metadata": {
        "id": "hMbER33atZUn"
      },
      "source": [
        "'''\n",
        "Import sympy untuk melakukan simbolic fungsi\n",
        "\n",
        "'''\n",
        "\n",
        "import numpy as np\n",
        "import sympy as sy"
      ],
      "execution_count": 2,
      "outputs": []
    },
    {
      "cell_type": "code",
      "metadata": {
        "id": "kg7YGuJLG3lN"
      },
      "source": [
        "'''\n",
        "Menggunakan perintah Symbolic untuk mendefinisikan x sebagai nilai dalam sebuah\n",
        "fungsi. \n",
        "\n",
        "Mendefinisikan fungsi f(x) sebagai f dan g(x) sebagai g\n",
        "\n",
        "'''\n",
        "\n",
        "x = sy.Symbol('x')\n",
        "f = x**2+2*x+1 \n",
        "g = 4*x**3+3*x**2+2*x-1"
      ],
      "execution_count": 3,
      "outputs": []
    },
    {
      "cell_type": "code",
      "metadata": {
        "colab": {
          "base_uri": "https://localhost:8080/",
          "height": 39
        },
        "id": "dlDc4esXJWsn",
        "outputId": "6eeda6f7-b628-49bc-add0-1e5f93d78027"
      },
      "source": [
        "'''\n",
        "Menampilkan fungsi f\n",
        "\n",
        "'''\n",
        "\n",
        "f"
      ],
      "execution_count": 10,
      "outputs": [
        {
          "output_type": "execute_result",
          "data": {
            "text/latex": "$\\displaystyle x^{2} + 2 x + 1$",
            "text/plain": [
              "x**2 + 2*x + 1"
            ]
          },
          "metadata": {},
          "execution_count": 10
        }
      ]
    },
    {
      "cell_type": "code",
      "metadata": {
        "colab": {
          "base_uri": "https://localhost:8080/",
          "height": 39
        },
        "id": "eDCXQ8kSq1re",
        "outputId": "6e4cca17-2f59-4ddd-f8c9-b5c46509a392"
      },
      "source": [
        "'''\n",
        "Menampilkan fungsi g\n",
        "\n",
        "'''\n",
        "\n",
        "g"
      ],
      "execution_count": 11,
      "outputs": [
        {
          "output_type": "execute_result",
          "data": {
            "text/latex": "$\\displaystyle 4 x^{3} + 3 x^{2} + 2 x - 1$",
            "text/plain": [
              "4*x**3 + 3*x**2 + 2*x - 1"
            ]
          },
          "metadata": {},
          "execution_count": 11
        }
      ]
    },
    {
      "cell_type": "code",
      "metadata": {
        "colab": {
          "base_uri": "https://localhost:8080/",
          "height": 39
        },
        "id": "ySAs6U3PJYIW",
        "outputId": "f3ed5790-5c44-4f6e-8870-d4cb22b76942"
      },
      "source": [
        "'''\n",
        "Turunan fungsi pertama f\n",
        "\n",
        "'''\n",
        "f1 = f.diff()\n",
        "f1"
      ],
      "execution_count": 7,
      "outputs": [
        {
          "output_type": "execute_result",
          "data": {
            "text/latex": "$\\displaystyle 2 x + 2$",
            "text/plain": [
              "2*x + 2"
            ]
          },
          "metadata": {},
          "execution_count": 7
        }
      ]
    },
    {
      "cell_type": "code",
      "metadata": {
        "colab": {
          "base_uri": "https://localhost:8080/",
          "height": 38
        },
        "id": "4GfdrbdDJdpP",
        "outputId": "b9cdda80-09cc-46b2-e165-01f718773a46"
      },
      "source": [
        "'''\n",
        "Turunan fungsi kedua f\n",
        "\n",
        "'''\n",
        "\n",
        "f2 = f1.diff()\n",
        "f2"
      ],
      "execution_count": 8,
      "outputs": [
        {
          "output_type": "execute_result",
          "data": {
            "text/latex": "$\\displaystyle 2$",
            "text/plain": [
              "2"
            ]
          },
          "metadata": {},
          "execution_count": 8
        }
      ]
    },
    {
      "cell_type": "code",
      "metadata": {
        "colab": {
          "base_uri": "https://localhost:8080/",
          "height": 38
        },
        "id": "8EvspB2SJlyB",
        "outputId": "c74b8d0b-f7d2-4c3c-8bc7-7a8f71687808"
      },
      "source": [
        "'''\n",
        "Turunan fungsi ketiga f\n",
        "\n",
        "'''\n",
        "\n",
        "f3 = f2.diff()\n",
        "f3"
      ],
      "execution_count": 9,
      "outputs": [
        {
          "output_type": "execute_result",
          "data": {
            "text/latex": "$\\displaystyle 0$",
            "text/plain": [
              "0"
            ]
          },
          "metadata": {},
          "execution_count": 9
        }
      ]
    },
    {
      "cell_type": "code",
      "metadata": {
        "colab": {
          "base_uri": "https://localhost:8080/",
          "height": 39
        },
        "id": "dclHBikDJ-Js",
        "outputId": "218ff803-dc13-4a42-b5e6-309d411c9e35"
      },
      "source": [
        "'''\n",
        "Turunan pertama fungsi g\n",
        "\n",
        "'''\n",
        "\n",
        "g1 = g.diff()\n",
        "g1"
      ],
      "execution_count": 12,
      "outputs": [
        {
          "output_type": "execute_result",
          "data": {
            "text/latex": "$\\displaystyle 12 x^{2} + 6 x + 2$",
            "text/plain": [
              "12*x**2 + 6*x + 2"
            ]
          },
          "metadata": {},
          "execution_count": 12
        }
      ]
    },
    {
      "cell_type": "code",
      "metadata": {
        "colab": {
          "base_uri": "https://localhost:8080/",
          "height": 39
        },
        "id": "NRKA1EZTKC6H",
        "outputId": "40aac7fd-3db7-43fd-def8-44f421081b8c"
      },
      "source": [
        "'''\n",
        "Turunan kedua fungsi g\n",
        "\n",
        "'''\n",
        "\n",
        "g2 = g1.diff()\n",
        "g2"
      ],
      "execution_count": 13,
      "outputs": [
        {
          "output_type": "execute_result",
          "data": {
            "text/latex": "$\\displaystyle 24 x + 6$",
            "text/plain": [
              "24*x + 6"
            ]
          },
          "metadata": {},
          "execution_count": 13
        }
      ]
    },
    {
      "cell_type": "code",
      "metadata": {
        "colab": {
          "base_uri": "https://localhost:8080/",
          "height": 38
        },
        "id": "YGIEaj1bKIZF",
        "outputId": "095268f5-c9d9-4f13-a341-13db327f0de2"
      },
      "source": [
        "'''\n",
        "Turunan ketiga fungsi g\n",
        "\n",
        "'''\n",
        "\n",
        "g3 = g2.diff()\n",
        "g3"
      ],
      "execution_count": 14,
      "outputs": [
        {
          "output_type": "execute_result",
          "data": {
            "text/latex": "$\\displaystyle 24$",
            "text/plain": [
              "24"
            ]
          },
          "metadata": {},
          "execution_count": 14
        }
      ]
    },
    {
      "cell_type": "code",
      "metadata": {
        "colab": {
          "base_uri": "https://localhost:8080/",
          "height": 38
        },
        "id": "sWhnKLG5KMoV",
        "outputId": "2bfc749a-0c6a-490b-843d-970b59ba3b26"
      },
      "source": [
        "'''\n",
        "Turunan keempat fungsi g\n",
        "\n",
        "'''\n",
        "\n",
        "g4 = g3.diff()\n",
        "g4"
      ],
      "execution_count": 15,
      "outputs": [
        {
          "output_type": "execute_result",
          "data": {
            "text/latex": "$\\displaystyle 0$",
            "text/plain": [
              "0"
            ]
          },
          "metadata": {},
          "execution_count": 15
        }
      ]
    }
  ]
}